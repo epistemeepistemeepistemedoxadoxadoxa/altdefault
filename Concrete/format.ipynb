{
 "cells": [
  {
   "cell_type": "code",
   "execution_count": 4,
   "metadata": {},
   "outputs": [
    {
     "name": "stdout",
     "output_type": "stream",
     "text": [
      "Saved: /Users/theofrance-haggi/Downloads/T_For_Type/AltDefault/Concrete/style&system2_page_1.png\n",
      "Saved: /Users/theofrance-haggi/Downloads/T_For_Type/AltDefault/Concrete/2TREE_page_1.png\n",
      "Saved: /Users/theofrance-haggi/Downloads/T_For_Type/AltDefault/Concrete/BARRIER_page_1.png\n",
      "Saved: /Users/theofrance-haggi/Downloads/T_For_Type/AltDefault/Concrete/dance_page_1.png\n",
      "Saved: /Users/theofrance-haggi/Downloads/T_For_Type/AltDefault/Concrete/MULTI_page_1.png\n",
      "Saved: /Users/theofrance-haggi/Downloads/T_For_Type/AltDefault/Concrete/square_pat_page_1.png\n",
      "Saved: /Users/theofrance-haggi/Downloads/T_For_Type/AltDefault/Concrete/AEON_page_1.png\n",
      "Saved: /Users/theofrance-haggi/Downloads/T_For_Type/AltDefault/Concrete/style&system_page_1.png\n",
      "Saved: /Users/theofrance-haggi/Downloads/T_For_Type/AltDefault/Concrete/1TREE_page_1.png\n",
      "Saved: /Users/theofrance-haggi/Downloads/T_For_Type/AltDefault/Concrete/12_page_1.png\n",
      "Saved: /Users/theofrance-haggi/Downloads/T_For_Type/AltDefault/Concrete/CIRCLE_page_1.png\n",
      "Saved: /Users/theofrance-haggi/Downloads/T_For_Type/AltDefault/Concrete/BARRIER2_page_1.png\n",
      "Saved: /Users/theofrance-haggi/Downloads/T_For_Type/AltDefault/Concrete/TIME1_page_1.png\n",
      "Saved: /Users/theofrance-haggi/Downloads/T_For_Type/AltDefault/Concrete/man_page_1.png\n",
      "Saved: /Users/theofrance-haggi/Downloads/T_For_Type/AltDefault/Concrete/WORDS_page_1.png\n",
      "Saved: /Users/theofrance-haggi/Downloads/T_For_Type/AltDefault/Concrete/flower_page_1.png\n",
      "Saved: /Users/theofrance-haggi/Downloads/T_For_Type/AltDefault/Concrete/TREE_page_1.png\n",
      "Saved: /Users/theofrance-haggi/Downloads/T_For_Type/AltDefault/Concrete/TECHNE_page_1.png\n",
      "Saved: /Users/theofrance-haggi/Downloads/T_For_Type/AltDefault/Concrete/V_page_1.png\n",
      "Saved: /Users/theofrance-haggi/Downloads/T_For_Type/AltDefault/Concrete/SMTECHNE_page_1.png\n",
      "Saved: /Users/theofrance-haggi/Downloads/T_For_Type/AltDefault/Concrete/antwarwonownantwarnow_page_1.png\n",
      "Saved: /Users/theofrance-haggi/Downloads/T_For_Type/AltDefault/Concrete/CC_page_1.png\n",
      "Saved: /Users/theofrance-haggi/Downloads/T_For_Type/AltDefault/Concrete/1_page_1.png\n",
      "Saved: /Users/theofrance-haggi/Downloads/T_For_Type/AltDefault/Concrete/WORTHLESS_page_1.png\n",
      "Saved: /Users/theofrance-haggi/Downloads/T_For_Type/AltDefault/Concrete/LR_Tree_page_1.png\n",
      "Saved: /Users/theofrance-haggi/Downloads/T_For_Type/AltDefault/Concrete/3_page_1.png\n",
      "Saved: /Users/theofrance-haggi/Downloads/T_For_Type/AltDefault/Concrete/WORDSFORM_page_1.png\n"
     ]
    }
   ],
   "source": [
    "# import os\n",
    "# from pdf2image import convert_from_path\n",
    "# from PIL import Image\n",
    "\n",
    "# # Path to the folder containing PDFs\n",
    "# pdf_folder_path = '/Users/theofrance-haggi/Downloads/T_For_Type/AltDefault/Concrete'\n",
    "# # Path to the folder where PNGs will be saved\n",
    "# output_folder_path = '/Users/theofrance-haggi/Downloads/T_For_Type/AltDefault/Concrete'\n",
    "\n",
    "# # Create output folder if it doesn't exist\n",
    "# if not os.path.exists(output_folder_path):\n",
    "#     os.makedirs(output_folder_path)\n",
    "\n",
    "# # Convert all PDFs in the folder\n",
    "# for pdf_file in os.listdir(pdf_folder_path):\n",
    "#     if pdf_file.endswith('.pdf'):\n",
    "#         pdf_path = os.path.join(pdf_folder_path, pdf_file)\n",
    "#         # Convert PDF to images (pages)\n",
    "#         pages = convert_from_path(pdf_path)\n",
    "\n",
    "#         # Loop through all the pages and convert each to PNG with alpha channel\n",
    "#         for page_num, page in enumerate(pages):\n",
    "#             # Convert page to RGBA to ensure transparency is handled\n",
    "#             rgba_image = page.convert(\"RGBA\")\n",
    "            \n",
    "#             # Set output PNG path\n",
    "#             output_file = os.path.join(output_folder_path, f\"{os.path.splitext(pdf_file)[0]}_page_{page_num + 1}.png\")\n",
    "            \n",
    "#             # Save image as PNG with alpha\n",
    "#             rgba_image.save(output_file, 'PNG')\n",
    "            \n",
    "#             print(f\"Saved: {output_file}\")"
   ]
  },
  {
   "cell_type": "code",
   "execution_count": null,
   "metadata": {},
   "outputs": [],
   "source": []
  }
 ],
 "metadata": {
  "kernelspec": {
   "display_name": ".venv",
   "language": "python",
   "name": "python3"
  },
  "language_info": {
   "codemirror_mode": {
    "name": "ipython",
    "version": 3
   },
   "file_extension": ".py",
   "mimetype": "text/x-python",
   "name": "python",
   "nbconvert_exporter": "python",
   "pygments_lexer": "ipython3",
   "version": "3.12.7"
  }
 },
 "nbformat": 4,
 "nbformat_minor": 2
}
